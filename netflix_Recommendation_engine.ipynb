{
  "metadata": {
    "colab": {
      "provenance": [],
      "include_colab_link": true
    }
  },
  "cells": [
    {
      "cell_type": "markdown",
      "metadata": {
        "id": "view-in-github",
        "colab_type": "text"
      },
      "source": [
        "<a href=\"https://colab.research.google.com/github/dominiquedeveraux/Netflix-Recommendation-Engine/blob/main/netflix_Recommendation_engine.ipynb\" target=\"_parent\"><img src=\"https://colab.research.google.com/assets/colab-badge.svg\" alt=\"Open In Colab\"/></a>"
      ]
    },
    {
      "source": [
        "## Task: Create a recommendation of movies based on release_year and ratings that are PG and PG-13.\n",
        "\n",
        "Here is all the data you need:\n",
        "/tmp/netflix_titles.csv"
      ],
      "cell_type": "markdown",
      "metadata": {
        "id": "bb3e066b"
      },
      "id": "bb3e066b"
    },
    {
      "id": "97c50573",
      "metadata": {
        "id": "97c50573"
      },
      "cell_type": "markdown",
      "source": [
        "## Plan\n",
        "\n",
        "1. **data_loading**: Load the data from \"/tmp/netflix_titles.csv\" into a pandas DataFrame.\n",
        "2. **data_cleaning**: Remove any irrelevant columns or handle missing values if necessary.\n",
        "3. **data_wrangling**: Filter the DataFrame to include only movies with ratings \"PG\" and \"PG-13\".\n",
        "4. **data_analysis**: Analyze the relationship between release year and ratings to identify trends or patterns.\n",
        "5. **feature_engineering**: Create new features or transform existing ones to improve the recommendation process (e.g., grouping movies by release year or rating).\n",
        "6. **model_training**: Choose a suitable recommendation algorithm (e.g., collaborative filtering, content-based filtering) and train it on the prepared data.\n",
        "7. **model_evaluation**: Evaluate the performance of the trained model using appropriate metrics.\n",
        "8. **finish_task**: Generate a list of recommended movies based on the model's output and present it in a user-friendly format.\n"
      ]
    },
    {
      "cell_type": "markdown",
      "metadata": {
        "id": "age-rating-mapping"
      },
      "source": [
        "## Age Group to Movie Rating Mapping\n",
        "\n",
        "For the purpose of this recommendation system, we define the following age groups and their corresponding suitable movie/TV show ratings:\n",
        "\n",
        "*   **Children (ages 0-12):**\n",
        "    *   G (General Audiences)\n",
        "    *   TV-Y (All Children)\n",
        "    *   TV-Y7 (Directed to Older Children)\n",
        "    *   TV-G (General Audience)\n",
        "*   **Teens (ages 13-17):**\n",
        "    *   PG (Parental Guidance Suggested)\n",
        "    *   PG-13 (Parents Strongly Cautioned)\n",
        "    *   TV-PG (Parental Guidance Suggested)\n",
        "    *   TV-14 (Parents Strongly Cautioned)\n",
        "*   **Adults (ages 18+):**\n",
        "    *   R (Restricted)\n",
        "    *   NC-17 (Adults Only)\n",
        "    *   TV-MA (Mature Audience Only)\n",
        "\n",
        "This mapping will be used to tailor recommendations to the user's age group."
      ]
    },
    {
      "metadata": {
        "id": "e3fbf2c3"
      },
      "source": [
        "## Agent: data_loading\n",
        "\n",
        "### Subtask:\n",
        "Load the movie data from the CSV file into a pandas DataFrame.\n"
      ],
      "cell_type": "markdown",
      "id": "e3fbf2c3"
    },
    {
      "cell_type": "markdown",
      "metadata": {
        "id": "87df9365"
      },
      "source": [
        "**Reasoning**:\n",
        "Need to load the data first.\n",
        "\n"
      ],
      "id": "87df9365"
    },
    {
      "cell_type": "code",
      "source": [
        "# Import necessary library\n",
        "import pandas as pd\n",
        "\n",
        "# Load the data\n",
        "df = pd.read_csv('/tmp/netflix_titles.csv')\n",
        "\n",
        "# Display the first few rows\n",
        "df.head()\n"
      ],
      "outputs": [],
      "id": "ad26dbc3",
      "metadata": {
        "id": "ad26dbc3"
      },
      "execution_count": null
    },
    {
      "metadata": {
        "id": "e5e5b944"
      },
      "id": "e5e5b944",
      "source": [
        "---"
      ],
      "cell_type": "markdown"
    },
    {
      "id": "3b1b7d28",
      "cell_type": "markdown",
      "source": [
        "**Reasoning**:\n",
        "The data has been loaded successfully, and the subtask is complete.\n",
        "\n"
      ],
      "metadata": {
        "id": "3b1b7d28"
      }
    },
    {
      "metadata": {
        "id": "5456f49c"
      },
      "source": [
        "## Agent: data_cleaning\n",
        "\n",
        "### Subtask:\n",
        "Clean the movie data in the DataFrame `df`. Focus on handling missing values in relevant columns and removing any duplicates if present.\n"
      ],
      "cell_type": "markdown",
      "id": "5456f49c"
    },
    {
      "id": "fe3c83ec",
      "metadata": {
        "id": "fe3c83ec"
      },
      "source": [
        "**Reasoning**:\n",
        "Start by cleaning the data by handling missing values and removing duplicates.\n",
        "\n"
      ],
      "cell_type": "markdown"
    },
    {
      "execution_count": null,
      "cell_type": "code",
      "metadata": {
        "id": "441ab9ba"
      },
      "outputs": [],
      "source": [
        "# Handle missing values\n",
        "df['director'].fillna('Unknown', inplace=True)\n",
        "df['cast'].fillna('Unknown', inplace=True)\n",
        "df['country'].fillna('Unknown', inplace=True)\n",
        "\n",
        "# Remove duplicates\n",
        "df.drop_duplicates(inplace=True)\n",
        "\n",
        "# Print summary of cleaned DataFrame\n",
        "print(df.info())\n"
      ],
      "id": "441ab9ba"
    },
    {
      "cell_type": "markdown",
      "id": "b45201a8",
      "source": [
        "---"
      ],
      "metadata": {
        "id": "b45201a8"
      }
    },
    {
      "source": [
        "**Reasoning**:\n",
        "The data cleaning is done, and the DataFrame is ready for further analysis.\n",
        "\n"
      ],
      "metadata": {
        "id": "59ff6a05"
      },
      "id": "59ff6a05",
      "cell_type": "markdown"
    },
    {
      "metadata": {
        "id": "6e4ea1e6"
      },
      "id": "6e4ea1e6",
      "cell_type": "markdown",
      "source": [
        "## Agent: data_wrangling\n",
        "\n",
        "### Subtask:\n",
        "Filter the DataFrame `df` to include only movies with ratings \"PG\" and \"PG-13\".\n"
      ]
    },
    {
      "source": [
        "**Reasoning**:\n",
        "Filter the DataFrame to include only movies with ratings \"PG\" and \"PG-13\" using boolean indexing.\n",
        "\n"
      ],
      "id": "888cca5e",
      "cell_type": "markdown",
      "metadata": {
        "id": "888cca5e"
      }
    },
    {
      "id": "29b19017",
      "outputs": [],
      "metadata": {
        "id": "29b19017"
      },
      "cell_type": "code",
      "source": [
        "# Define all ratings we are interested in across all age groups\n",
        "all_relevant_ratings = [\n",
        "    \"G\", \"TV-Y\", \"TV-Y7\", \"TV-G\",\n",
        "    \"PG\", \"PG-13\", \"TV-PG\", \"TV-14\",\n",
        "    \"R\", \"NC-17\", \"TV-MA\"\n",
        "]\n",
        "\n",
        "# Filter the DataFrame to include only movies/shows with these ratings\n",
        "df_filtered = df[df['rating'].isin(all_relevant_ratings)].copy() # Use .copy() to avoid SettingWithCopyWarning later\n",
        "\n",
        "# Display the shape of the new df_filtered and its unique ratings to verify\n",
        "print(f\"Shape of the updated df_filtered: {df_filtered.shape}\")\n",
        "print(f\"Unique ratings in updated df_filtered: {df_filtered['rating'].unique()}\")\n"
      ],
      "execution_count": null
    },
    {
      "metadata": {
        "id": "dfbe470b"
      },
      "id": "dfbe470b",
      "source": [
        "---"
      ],
      "cell_type": "markdown"
    },
    {
      "id": "e098e500",
      "cell_type": "markdown",
      "metadata": {
        "id": "e098e500"
      },
      "source": [
        "**Reasoning**:\n",
        "The subtask is completed, we have successfully filtered the DataFrame.\n",
        "\n"
      ]
    },
    {
      "cell_type": "markdown",
      "source": [
        "## Agent: data_analysis\n",
        "\n",
        "### Subtask:\n",
        "Analyze the relationship between release year and ratings (\"PG\" and \"PG-13\") in the filtered DataFrame `df_filtered`.\n"
      ],
      "id": "0173699d",
      "metadata": {
        "id": "0173699d"
      }
    },
    {
      "source": [
        "**Reasoning**:\n",
        "Visualize the distribution of release years for movies with \"PG\" and \"PG-13\" ratings using histograms.\n",
        "\n"
      ],
      "id": "2267682c",
      "cell_type": "markdown",
      "metadata": {
        "id": "2267682c"
      }
    },
    {
      "source": [
        "import matplotlib.pyplot as plt\n",
        "\n",
        "# Filter the DataFrame for PG and PG-13 ratings\n",
        "pg_movies = df_filtered[df_filtered['rating'] == 'PG']\n",
        "pg13_movies = df_filtered[df_filtered['rating'] == 'PG-13']\n",
        "\n",
        "# Create histograms for release years\n",
        "plt.figure(figsize=(10, 6))\n",
        "plt.hist(pg_movies['release_year'], bins=10, alpha=0.5, label='PG')\n",
        "plt.hist(pg13_movies['release_year'], bins=10, alpha=0.5, label='PG-13')\n",
        "plt.xlabel('Release Year')\n",
        "plt.ylabel('Number of Movies')\n",
        "plt.title('Distribution of Release Years for PG and PG-13 Movies')\n",
        "plt.legend()\n",
        "plt.show()\n",
        "\n",
        "# Calculate summary statistics for release years\n",
        "print(\"Summary statistics for PG movies:\")\n",
        "print(pg_movies['release_year'].describe())\n",
        "\n",
        "print(\"\\nSummary statistics for PG-13 movies:\")\n",
        "print(pg13_movies['release_year'].describe())\n"
      ],
      "cell_type": "code",
      "metadata": {
        "id": "1d08634f"
      },
      "execution_count": null,
      "outputs": [],
      "id": "1d08634f"
    },
    {
      "source": [
        "---"
      ],
      "id": "cf50bc8c",
      "cell_type": "markdown",
      "metadata": {
        "id": "cf50bc8c"
      }
    },
    {
      "id": "de503f31",
      "source": [
        "**Reasoning**:\n",
        "The subtask is completed, we have analyzed the relationship between release year and ratings.\n",
        "\n"
      ],
      "cell_type": "markdown",
      "metadata": {
        "id": "de503f31"
      }
    },
    {
      "metadata": {
        "id": "b05b0e52"
      },
      "source": [
        "## Agent: feature_engineering\n",
        "\n",
        "### Subtask:\n",
        "Create a new feature that groups movies based on their release decade.\n"
      ],
      "cell_type": "markdown",
      "id": "b05b0e52"
    },
    {
      "metadata": {
        "id": "59e92087"
      },
      "cell_type": "markdown",
      "id": "59e92087",
      "source": [
        "**Reasoning**:\n",
        "We need to write code to create a new feature.\n",
        "\n"
      ]
    },
    {
      "outputs": [],
      "metadata": {
        "id": "8143e39c"
      },
      "source": [
        "# Create a new column 'release_decade'\n",
        "df_filtered['release_decade'] = df_filtered['release_year'].apply(lambda x: str(x)[:-1] + '0s' if x != 0 else 'Unknown')\n",
        "\n",
        "# Print the updated DataFrame\n",
        "print(df_filtered.head())\n"
      ],
      "execution_count": null,
      "cell_type": "code",
      "id": "8143e39c"
    },
    {
      "cell_type": "markdown",
      "id": "a843157d",
      "metadata": {
        "id": "a843157d"
      },
      "source": [
        "---"
      ]
    },
    {
      "cell_type": "markdown",
      "id": "e27e7ac1",
      "source": [
        "**Reasoning**:\n",
        "The warning message indicates that we are trying to modify a copy of a slice of the DataFrame, which can lead to unexpected behavior. To avoid this, we should use the `.loc` accessor to modify the DataFrame in place.\n",
        "\n"
      ],
      "metadata": {
        "id": "e27e7ac1"
      }
    },
    {
      "cell_type": "code",
      "metadata": {
        "id": "6d9c6b3e"
      },
      "id": "6d9c6b3e",
      "execution_count": null,
      "source": [
        "# Create a new column 'release_decade' using .loc\n",
        "df_filtered.loc[:, 'release_decade'] = df_filtered['release_year'].apply(lambda x: str(x)[:-1] + '0s' if x != 0 else 'Unknown')\n",
        "\n",
        "# Print the updated DataFrame\n",
        "print(df_filtered.head())\n"
      ],
      "outputs": []
    },
    {
      "id": "1082feb4",
      "source": [
        "---"
      ],
      "cell_type": "markdown",
      "metadata": {
        "id": "1082feb4"
      }
    },
    {
      "source": [
        "**Reasoning**:\n",
        "The subtask of creating a new feature 'release_decade' is completed.\n",
        "\n"
      ],
      "id": "881e3113",
      "metadata": {
        "id": "881e3113"
      },
      "cell_type": "markdown"
    },
    {
      "cell_type": "markdown",
      "metadata": {
        "id": "8712a025"
      },
      "id": "8712a025",
      "source": [
        "## Agent: model_training\n",
        "\n",
        "### Subtask:\n",
        "Develop a simple recommendation system that suggests movies based on the user's preferred release decade and rating (PG or PG-13).\n"
      ]
    },
    {
      "cell_type": "markdown",
      "metadata": {
        "id": "95f11f8f"
      },
      "id": "95f11f8f",
      "source": [
        "**Reasoning**:\n",
        "I will write a function to recommend movies based on release decade and rating.\n",
        "\n"
      ]
    },
    {
      "source": [
        "def recommend_movies(decade, rating):\n",
        "    \"\"\"\n",
        "    Recommends movies based on release decade and rating.\n",
        "\n",
        "    Args:\n",
        "        decade: The release decade of movies to recommend.\n",
        "        rating: The rating of movies to recommend (PG or PG-13).\n",
        "\n",
        "    Returns:\n",
        "        A list of recommended movie titles.\n",
        "    \"\"\"\n",
        "    recommendations = df_filtered[(df_filtered['release_decade'] == decade) & (df_filtered['rating'] == rating)]['title'].tolist()\n",
        "    return recommendations\n",
        "\n",
        "# Test the recommendation function\n",
        "print(recommend_movies('2010s', 'PG'))\n",
        "print(recommend_movies('2020s', 'PG-13'))\n"
      ],
      "cell_type": "code",
      "id": "303fdfb2",
      "outputs": [],
      "metadata": {
        "id": "303fdfb2"
      },
      "execution_count": null
    },
    {
      "metadata": {
        "id": "35d798d0"
      },
      "cell_type": "markdown",
      "source": [
        "---"
      ],
      "id": "35d798d0"
    },
    {
      "metadata": {
        "id": "081c9d6e"
      },
      "source": [
        "**Reasoning**:\n",
        "The output is truncated, indicating that the list of recommended movies is too long to be displayed fully. To address this, I will modify the code to limit the number of recommendations returned.\n",
        "\n"
      ],
      "id": "081c9d6e",
      "cell_type": "markdown"
    },
    {
      "metadata": {
        "id": "3edd1eb7"
      },
      "source": [
        "def recommend_movies(decade, rating, n=5):\n",
        "    \"\"\"\n",
        "    Recommends movies based on release decade and rating.\n",
        "\n",
        "    Args:\n",
        "        decade: The release decade of movies to recommend.\n",
        "        rating: The rating of movies to recommend (PG or PG-13).\n",
        "        n: The maximum number of recommendations to return.\n",
        "\n",
        "    Returns:\n",
        "        A list of recommended movie titles.\n",
        "    \"\"\"\n",
        "    recommendations = df_filtered[(df_filtered['release_decade'] == decade) & (df_filtered['rating'] == rating)]['title'].tolist()\n",
        "    return recommendations[:n]\n",
        "\n",
        "# Test the recommendation function\n",
        "print(recommend_movies('2010s', 'PG'))\n",
        "print(recommend_movies('2020s', 'PG-13'))\n",
        "\n"
      ],
      "cell_type": "code",
      "execution_count": null,
      "id": "3edd1eb7",
      "outputs": []
    },
    {
      "source": [
        "---"
      ],
      "id": "ad2f7d9e",
      "metadata": {
        "id": "ad2f7d9e"
      },
      "cell_type": "markdown"
    },
    {
      "source": [
        "**Reasoning**:\n",
        "The recommendation system is now working as expected, returning a limited number of movie titles based on the provided decade and rating. The task is complete.\n",
        "\n"
      ],
      "metadata": {
        "id": "b041d652"
      },
      "cell_type": "markdown",
      "id": "b041d652"
    },
    {
      "id": "e0e62c56",
      "metadata": {
        "id": "e0e62c56"
      },
      "source": [
        "## Agent: model_evaluation\n",
        "\n",
        "### Subtask:\n",
        "Evaluate the performance of the `recommend_movies` function created in the previous step.\n"
      ],
      "cell_type": "markdown"
    },
    {
      "id": "cc45b776",
      "cell_type": "markdown",
      "metadata": {
        "id": "cc45b776"
      },
      "source": [
        "**Reasoning**:\n",
        "The task requires evaluating the performance of a function, so we need to design test cases and assess the results.\n",
        "\n"
      ]
    },
    {
      "execution_count": null,
      "cell_type": "code",
      "source": [
        "def recommend_movies(age_group, decade, n=5):\n",
        "    \"\"\"\n",
        "    Recommends movies based on age group and release decade.\n",
        "\n",
        "    Args:\n",
        "        age_group: The age group of the user (e.g., \"children\", \"teens\", \"adults\").\n",
        "        decade: The release decade of movies to recommend.\n",
        "        n: The maximum number of recommendations to return.\n",
        "\n",
        "    Returns:\n",
        "        A list of recommended movie titles.\n",
        "    \"\"\"\n",
        "    age_rating_map = {\n",
        "        \"children\": [\"G\", \"TV-Y\", \"TV-Y7\", \"TV-G\"],\n",
        "        \"teens\": [\"PG\", \"PG-13\", \"TV-PG\", \"TV-14\"],\n",
        "        \"adults\": [\"R\", \"NC-17\", \"TV-MA\"],\n",
        "    }\n",
        "    selected_ratings = age_rating_map.get(age_group.lower())\n",
        "    if not selected_ratings:\n",
        "        print(f\"Unknown age group: {age_group}. No recommendations available.\")\n",
        "        return []\n",
        "\n",
        "    recommendations = df_filtered[\n",
        "        (df_filtered['release_decade'] == decade) & \n",
        "        (df_filtered['rating'].isin(selected_ratings))\n",
        "    ]['title'].tolist()\n",
        "    return recommendations[:n]\n",
        "\n",
        "# Test cases\n",
        "test_cases = [\n",
        "    (\"children\", \"2010s\", 3),\n",
        "    (\"teens\", \"2000s\", 5),\n",
        "    (\"adults\", \"2020s\", 4),\n",
        "    (\"children\", \"1990s\", 2),\n",
        "    (\"unknown_group\", \"2010s\", 3) # Test for unknown age group\n",
        "]\n",
        "\n",
        "# Evaluate recommendations for each test case\n",
        "for age_group, decade, n in test_cases:\n",
        "    recommendations = recommend_movies(age_group, decade, n)\n",
        "    print(f\"Recommendations for {age_group} watching movies from {decade} (up to {n}):\")\n",
        "    if recommendations:\n",
        "        for movie in recommendations:\n",
        "            print(f\"- {movie}\")\n",
        "    else:\n",
        "        print(\"No movies found matching your criteria.\")\n",
        "    print(\"----\")\n"
      ],
      "id": "27b17448",
      "outputs": [],
      "metadata": {
        "id": "27b17448"
      }
    },
    {
      "id": "f52aa5c6",
      "metadata": {
        "id": "f52aa5c6"
      },
      "cell_type": "markdown",
      "source": [
        "---"
      ]
    },
    {
      "source": [
        "**Reasoning**:\n",
        "The test cases have been executed and the results are printed. Now we need to summarize the findings and evaluate the performance of the recommendation system.\n",
        "\n"
      ],
      "cell_type": "markdown",
      "metadata": {
        "id": "f04f0e6c"
      },
      "id": "f04f0e6c"
    },
    {
      "metadata": {
        "id": "fdfbcdb8"
      },
      "cell_type": "markdown",
      "source": [
        "## Summary:\n",
        "\n",
        "This task aimed to improve the movie recommendation system by incorporating user age groups. The solution involved several steps:\n",
        "\n",
        "1.  **Data Loading and Cleaning:** The movie data was loaded from a CSV file, and missing values in 'director', 'cast', and 'country' were handled. Duplicates were removed.\n",
        "2.  **Age Group to Rating Mapping:** Defined user age groups (Children, Teens, Adults) and mapped them to appropriate movie/TV show ratings (e.g., G, PG, PG-13, R, TV-Y, TV-MA, etc.).\n",
        "3.  **Data Wrangling:** The data was filtered to include only movies and shows with ratings relevant to the defined age groups.\n",
        "4.  **Feature Engineering:** A new feature, \"release_decade\", was created to group movies by their release decade.\n",
        "5.  **Model Development:** The `recommend_movies` function was modified to accept a user's `age_group` and `decade` to suggest relevant titles.\n",
        "6.  **Model Evaluation:** The recommendation system was tested with various age groups and decades, demonstrating its ability to provide age-appropriate recommendations.\n",
        "\n",
        "## Conclusion\n",
        "\n",
        "The movie recommendation system was successfully enhanced to provide recommendations based on user age groups and preferred release decades. This allows for more tailored suggestions suitable for Children, Teens, and Adults by filtering based on a predefined mapping of age groups to content ratings. The system remains a content-based filtering approach, now with an added dimension of age-appropriateness.\n",
        "\n",
        "## Insights and Next Steps\n",
        "\n",
        "The current system offers a good starting point for age-based recommendations. To further enhance it:\n",
        "\n",
        "*   **Refine Age-Rating Mappings:** The current age-to-rating mapping is based on general assumptions. This could be refined using official guidelines or allowing for more granular age inputs.\n",
        "*   **Incorporate Genre Preferences:** Allow users to specify preferred genres in addition to their age group for more personalized recommendations.\n",
        "*   **User Profiles and Learning:** Implement user profiles that store preferences and viewing history to enable more sophisticated recommendation algorithms (e.g., collaborative filtering or hybrid approaches).\n",
        "*   **Content Analysis:** Utilize content-based filtering by analyzing movie descriptions, cast, director, etc., to find similarities beyond just rating and release decade.\n",
        "*   **Feedback Mechanism:** Allow users to rate recommendations or indicate if they are not appropriate, which can help improve the system over time.\n",
        "*   **Develop a User Interface:** Create a user-friendly interface for users to interact with the recommendation system.\n",
        "\n",
        "By addressing these areas, the recommendation system can be significantly improved, providing a more engaging, personalized, and robust experience for users.\n"
      ]
    },
    {
      "id": "labs_signature",
      "cell_type": "markdown",
      "source": [
        "An AI generated notebook created with [Data Science Agent](https://labs.google.com/code/dsa) from Google Labs ![image.png](data:image/png;base64,iVBORw0KGgoAAAANSUhEUgAAACAAAAAgCAYAAABzenr0AAAAAXNSR0IArs4c6QAAAERlWElmTU0AKgAAAAgAAYdpAAQAAAABAAAAGgAAAAAAA6ABAAMAAAABAAEAAKACAAQAAAABAAAAIKADAAQAAAABAAAAIAAAAACshmLzAAAFI0lEQVRYCb1XbUxTVxh+z71tKZTvUVBGZAXKhzI6XJZFpiFziiZuM5M5A4vJnBo2FrdlcUtMNo1LDGbJEsOP7Y9uETYXFdgQp7E4EHEIEeXDBaEqBSYfc0gptEBv23t2zi0ll9sPWhN2/pz3PM973ue9573nnHsRiFoXHlNpGmFTxKxsO8zKCgAz4SL66U2EJ0DO3wUlf0ZfYL+4Ba2wuoMht9HfP5Ks6VKdBAfa5MaWpZfhq0bdk30pKSmDNL6QwMTDkVUxnapfgEd5yyIqDcrgFtML1qLY1MQhBmOsiukKrfzfxGky5EGpJtVGuN60AybZammSfsaYcAulk/j54ySuZBjl3CEDK97ryXhHvjGc+vNUXYUmOT3NbPnHJB96NBhDPVclJZsiEmLtA4a+qJLte/s/S3tvvfcIEnQWvy8DB5slgX0ONyStdRwfLIs0tHckQlQI5OXmPaDOLe3NaWC2QYw63rIuUef0GUBK2NlshM9PTRM84O1mZyxdisJEXUN1U9OrfG4+jdnIdDRtLMzP56pHuuR8uE6q42dsYQjJ+3HwoOzg5BCDQOtUy90ktRGLgHJuLMCepwnQFyfgNo6mbVgpgxnrzMI8wZazQLmAA7kcMU0gqBaKlSzMOcGGuYWVsxMbzzlA4IKKBhB0As1jtzngeXg2LEHh1loR5ipH43BbsCUIMgHE3S/8aGf+yjVpE7GsOtOdwDNsQnby2ox/d31clA+M7Z4bD6QPagUKftxjp0ENX/9hJF2USCC8/9C1UTp+5WSRTIQvaQacwE1LR1P973WrDx481BbOx7wojcyAKufo4bKWlstXtbcsnU1S3teYngOThBQ/jacv4gzo7bj0ldkpkyNHOmnSkZ5OLmRnXendC1XVGbaKvwcBK7S+/OZxc0ArkHe6mKUTug/X95HOpzj12bpx2yQ3M6soqC0J6ERcMoFmU9u1m3X61K+OlrXFIfXLVMRLcwzj4Zat+pKefUc+2AAKBuorqzPbp5cuhf8S0KUvjk/XZq0ZMXx5g5x8SO0pPte75eIBVl9To4Vp8o7StcLksuQxMJEKcP4w9hCwLNVznoD4L8Gb50s5IOfNt6XHyKUjFUcz5QM/3WAOaDL1p89qYUbYIAB04Yk4TYSf4mBX7acWH+IC7LMEreStrzt7LpueFMd/LU8C2dxf7kCPudHW16p2D3/yeel6PEY+78g9IAi7HWhPEyGlOFdZoevl7l8XU2LbewnQ3D35fk2aw2SVC0cVPXQ1UfDhG3tu9T0ZiGyoupABNgLKibB94UoQx3XZiPAYQ2RSnNV8oneU7Io0iZP3Erxz+Qu7IC6jtSRTyO0HRjN8X37ipYaff8sQlphi/sSpEhGnqzP1aFy1v/XYlERcGNISkEiL24PHA66t5ph/OlpTcaPCUkzMi22na26noTtaDM/biB6bHu9BXETsnOCgJJRYiMbySHc+lK+OKpCb2+kUrn6pF4NwldlIts1zYsaGpu/EleastoBV6UogWFV3NJIxKZWKD7EZv7t9R43i17kZoUfYiHCtqQ449vVFBB2g2Z6eaeN4CBvisUIevr4Aos/xDj4rIlkNWOn57Sl3XEJYb3oLzGyNrxjLikc7CxnYHK0Hlr++rELeglPNTdFXGISQFXQhu4H8LnnzWxaMahFNqi3UF6WGDkEuXwzkx3FZBMVBqUauoljQJPii15v+nudckW8DG/Mu2Jnnye6IFc99ahthE8j4Tgjjz3Rvtl/SiX7P/wMAnfFmGtKN6gAAAABJRU5ErkJggg==)\n"
      ],
      "metadata": {
        "id": "labs_signature"
      }
    }
  ],
  "nbformat_minor": 5,
  "nbformat": 4
}