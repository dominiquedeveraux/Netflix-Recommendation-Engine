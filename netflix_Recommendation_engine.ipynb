{
  "metadata": {
    "colab": {
      "provenance": [],
      "include_colab_link": true
    }
  },
  "cells": [
    {
      "cell_type": "markdown",
      "metadata": {
        "id": "view-in-github",
        "colab_type": "text"
      },
      "source": [
        "<a href=\"https://colab.research.google.com/github/dominiquedeveraux/Netflix-Recommendation-Engine/blob/main/netflix_Recommendation_engine.ipynb\" target=\"_parent\"><img src=\"https://colab.research.google.com/assets/colab-badge.svg\" alt=\"Open In Colab\"/></a>"
      ]
    },
    {
      "source": [
        "## Task: Create a recommendation of movies based on release_year and ratings that are PG and PG-13.\n",
        "\n",
        "Here is all the data you need:\n",
        "/tmp/netflix_titles.csv"
      ],
      "cell_type": "markdown",
      "metadata": {
        "id": "bb3e066b"
      },
      "id": "bb3e066b"
    },
    {
      "id": "97c50573",
      "metadata": {
        "id": "97c50573"
      },
      "cell_type": "markdown",
      "source": [
        "## Plan\n",
        "\n",
        "1. **data_loading**: Load the data from \"/tmp/netflix_titles.csv\" into a pandas DataFrame.\n",
        "2. **data_cleaning**: Remove any irrelevant columns or handle missing values if necessary.\n",
        "3. **data_wrangling**: Filter the DataFrame to include only movies with ratings \"PG\" and \"PG-13\".\n",
        "4. **data_analysis**: Analyze the relationship between release year and ratings to identify trends or patterns.\n",
        "5. **feature_engineering**: Create new features or transform existing ones to improve the recommendation process (e.g., grouping movies by release year or rating).\n",
        "6. **model_training**: Choose a suitable recommendation algorithm (e.g., collaborative filtering, content-based filtering) and train it on the prepared data.\n",
        "7. **model_evaluation**: Evaluate the performance of the trained model using appropriate metrics.\n",
        "8. **finish_task**: Generate a list of recommended movies based on the model's output and present it in a user-friendly format.\n"
      ]
    },
    {
      "metadata": {
        "id": "e3fbf2c3"
      },
      "source": [
        "## Agent: data_loading\n",
        "\n",
        "### Subtask:\n",
        "Load the movie data from the CSV file into a pandas DataFrame.\n"
      ],
      "cell_type": "markdown",
      "id": "e3fbf2c3"
    },
    {
      "cell_type": "markdown",
      "metadata": {
        "id": "87df9365"
      },
      "source": [
        "**Reasoning**:\n",
        "Need to load the data first.\n",
        "\n"
      ],
      "id": "87df9365"
    },
    {
      "cell_type": "code",
      "source": [
        "# Import necessary library\n",
        "import pandas as pd\n",
        "\n",
        "# Load the data\n",
        "df = pd.read_csv('/tmp/netflix_titles.csv')\n",
        "\n",
        "# Display the first few rows\n",
        "df.head()\n"
      ],
      "outputs": [
        {
          "output_type": "stream",
          "name": "stdout",
          "text": "  show_id     type                  title         director  \\\n0      s1    Movie   Dick Johnson Is Dead  Kirsten Johnson   \n1      s2  TV Show          Blood & Water              NaN   \n2      s3  TV Show              Ganglands  Julien Leclercq   \n3      s4  TV Show  Jailbirds New Orleans              NaN   \n4      s5  TV Show           Kota Factory              NaN   \n\n                                                                                                                                                                                                                                                                                                              cast  \\\n0                                                                                                                                                                                                                                                                                                              NaN   \n1  Ama Qamata, Khosi Ngema, Gail Mabalane, Thabang Molaba, Dillon Windvogel, Natasha Thahane, Arno Greeff, Xolile Tshabalala, Getmore Sithole, Cindy Mahlangu, Ryle De Morny, Greteli Fincham, Sello Maake Ka-Ncube, Odwa Gwanya, Mekaila Mathys, Sandi Schultz, Duane Williams, Shamilla Miller, Patrick Mofokeng   \n2                                                                                                                                                              Sami Bouajila, Tracy Gotoas, Samuel Jouy, Nabiha Akkari, Sofia Lesaffre, Salim Kechiouche, Noureddine Farihi, Geert Van Rampelberg, Bakary Diombera   \n3                                                                                                                                                                                                                                                                                                              NaN   \n4                                                                                                                                                                                                         Mayur More, Jitendra Kumar, Ranjan Raj, Alam Khan, Ahsaas Channa, Revathi Pillai, Urvi Singh, Arun Kumar   \n\n         country          date_added  release_year rating   duration  \\\n0  United States  September 25, 2021          2020  PG-13     90 min   \n1   South Africa  September 24, 2021          2021  TV-MA  2 Seasons   \n2            NaN  September 24, 2021          2021  TV-MA   1 Season   \n3            NaN  September 24, 2021          2021  TV-MA   1 Season   \n4          India  September 24, 2021          2021  TV-MA  2 Seasons   \n\n                                                       listed_in  \\\n0                                                  Documentaries   \n1                International TV Shows, TV Dramas, TV Mysteries   \n2  Crime TV Shows, International TV Shows, TV Action & Adventure   \n3                                         Docuseries, Reality TV   \n4         International TV Shows, Romantic TV Shows, TV Comedies   \n\n                                                                                                                                                description  \n0  As her father nears the end of his life, filmmaker Kirsten Johnson stages his death in inventive and comical ways to help them both face the inevitable.  \n1       After crossing paths at a party, a Cape Town teen sets out to prove whether a private-school swimming star is her sister who was abducted at birth.  \n2        To protect his family from a powerful drug lord, skilled thief Mehdi and his expert team of robbers are pulled into a violent and deadly turf war.  \n3       Feuds, flirtations and toilet talk go down among the incarcerated women at the Orleans Justice Center in New Orleans on this gritty reality series.  \n4  In a city of coaching centers known to train India’s finest collegiate minds, an earnest but unexceptional student and his friends navigate campus life.  "
        },
        {
          "text": "",
          "name": "stderr",
          "output_type": "stream"
        }
      ],
      "id": "ad26dbc3",
      "metadata": {
        "id": "ad26dbc3",
        "outputId": "6bc262f3-33f0-45d8-c37f-d8cb913293ce"
      },
      "execution_count": null
    },
    {
      "metadata": {
        "id": "e5e5b944"
      },
      "id": "e5e5b944",
      "source": [
        "---"
      ],
      "cell_type": "markdown"
    },
    {
      "id": "3b1b7d28",
      "cell_type": "markdown",
      "source": [
        "**Reasoning**:\n",
        "The data has been loaded successfully, and the subtask is complete.\n",
        "\n"
      ],
      "metadata": {
        "id": "3b1b7d28"
      }
    },
    {
      "metadata": {
        "id": "5456f49c"
      },
      "source": [
        "## Agent: data_cleaning\n",
        "\n",
        "### Subtask:\n",
        "Clean the movie data in the DataFrame `df`. Focus on handling missing values in relevant columns and removing any duplicates if present.\n"
      ],
      "cell_type": "markdown",
      "id": "5456f49c"
    },
    {
      "id": "fe3c83ec",
      "metadata": {
        "id": "fe3c83ec"
      },
      "source": [
        "**Reasoning**:\n",
        "Start by cleaning the data by handling missing values and removing duplicates.\n",
        "\n"
      ],
      "cell_type": "markdown"
    },
    {
      "execution_count": null,
      "cell_type": "code",
      "metadata": {
        "id": "441ab9ba",
        "outputId": "f648ae89-adaf-4c65-d4ed-07c1c6628e34"
      },
      "outputs": [
        {
          "name": "stdout",
          "output_type": "stream",
          "text": "<class 'pandas.core.frame.DataFrame'>\nRangeIndex: 8807 entries, 0 to 8806\nData columns (total 12 columns):\n #   Column        Non-Null Count  Dtype \n---  ------        --------------  ----- \n 0   show_id       8807 non-null   object\n 1   type          8807 non-null   object\n 2   title         8807 non-null   object\n 3   director      8807 non-null   object\n 4   cast          8807 non-null   object\n 5   country       8807 non-null   object\n 6   date_added    8797 non-null   object\n 7   release_year  8807 non-null   int64 \n 8   rating        8803 non-null   object\n 9   duration      8804 non-null   object\n 10  listed_in     8807 non-null   object\n 11  description   8807 non-null   object\ndtypes: int64(1), object(11)\nmemory usage: 825.8+ KB\nNone\n"
        },
        {
          "text": "",
          "name": "stderr",
          "output_type": "stream"
        }
      ],
      "source": [
        "# Handle missing values\n",
        "df['director'].fillna('Unknown', inplace=True)\n",
        "df['cast'].fillna('Unknown', inplace=True)\n",
        "df['country'].fillna('Unknown', inplace=True)\n",
        "\n",
        "# Remove duplicates\n",
        "df.drop_duplicates(inplace=True)\n",
        "\n",
        "# Print summary of cleaned DataFrame\n",
        "print(df.info())\n"
      ],
      "id": "441ab9ba"
    },
    {
      "cell_type": "markdown",
      "id": "b45201a8",
      "source": [
        "---"
      ],
      "metadata": {
        "id": "b45201a8"
      }
    },
    {
      "source": [
        "**Reasoning**:\n",
        "The data cleaning is done, and the DataFrame is ready for further analysis.\n",
        "\n"
      ],
      "metadata": {
        "id": "59ff6a05"
      },
      "id": "59ff6a05",
      "cell_type": "markdown"
    },
    {
      "metadata": {
        "id": "6e4ea1e6"
      },
      "id": "6e4ea1e6",
      "cell_type": "markdown",
      "source": [
        "## Agent: data_wrangling\n",
        "\n",
        "### Subtask:\n",
        "Filter the DataFrame `df` to include only movies with ratings \"PG\" and \"PG-13\".\n"
      ]
    },
    {
      "source": [
        "**Reasoning**:\n",
        "Filter the DataFrame to include only movies with ratings \"PG\" and \"PG-13\" using boolean indexing.\n",
        "\n"
      ],
      "id": "888cca5e",
      "cell_type": "markdown",
      "metadata": {
        "id": "888cca5e"
      }
    },
    {
      "id": "29b19017",
      "outputs": [
        {
          "name": "stdout",
          "text": "(777, 12)\n",
          "output_type": "stream"
        },
        {
          "name": "stderr",
          "text": "",
          "output_type": "stream"
        }
      ],
      "metadata": {
        "id": "29b19017",
        "outputId": "ae934152-1c5d-4394-aaa8-201fbbe80576"
      },
      "cell_type": "code",
      "source": [
        "df_filtered = df[(df['rating'] == 'PG') | (df['rating'] == 'PG-13')]\n",
        "print(df_filtered.shape)\n",
        "\n"
      ],
      "execution_count": null
    },
    {
      "metadata": {
        "id": "dfbe470b"
      },
      "id": "dfbe470b",
      "source": [
        "---"
      ],
      "cell_type": "markdown"
    },
    {
      "id": "e098e500",
      "cell_type": "markdown",
      "metadata": {
        "id": "e098e500"
      },
      "source": [
        "**Reasoning**:\n",
        "The subtask is completed, we have successfully filtered the DataFrame.\n",
        "\n"
      ]
    },
    {
      "cell_type": "markdown",
      "source": [
        "## Agent: data_analysis\n",
        "\n",
        "### Subtask:\n",
        "Analyze the relationship between release year and ratings (\"PG\" and \"PG-13\") in the filtered DataFrame `df_filtered`.\n"
      ],
      "id": "0173699d",
      "metadata": {
        "id": "0173699d"
      }
    },
    {
      "source": [
        "**Reasoning**:\n",
        "Visualize the distribution of release years for movies with \"PG\" and \"PG-13\" ratings using histograms.\n",
        "\n"
      ],
      "id": "2267682c",
      "cell_type": "markdown",
      "metadata": {
        "id": "2267682c"
      }
    },
    {
      "source": [
        "import matplotlib.pyplot as plt\n",
        "\n",
        "# Filter the DataFrame for PG and PG-13 ratings\n",
        "pg_movies = df_filtered[df_filtered['rating'] == 'PG']\n",
        "pg13_movies = df_filtered[df_filtered['rating'] == 'PG-13']\n",
        "\n",
        "# Create histograms for release years\n",
        "plt.figure(figsize=(10, 6))\n",
        "plt.hist(pg_movies['release_year'], bins=10, alpha=0.5, label='PG')\n",
        "plt.hist(pg13_movies['release_year'], bins=10, alpha=0.5, label='PG-13')\n",
        "plt.xlabel('Release Year')\n",
        "plt.ylabel('Number of Movies')\n",
        "plt.title('Distribution of Release Years for PG and PG-13 Movies')\n",
        "plt.legend()\n",
        "plt.show()\n",
        "\n",
        "# Calculate summary statistics for release years\n",
        "print(\"Summary statistics for PG movies:\")\n",
        "print(pg_movies['release_year'].describe())\n",
        "\n",
        "print(\"\\nSummary statistics for PG-13 movies:\")\n",
        "print(pg13_movies['release_year'].describe())\n"
      ],
      "cell_type": "code",
      "metadata": {
        "id": "1d08634f",
        "outputId": "45e5832a-7518-406e-e675-418648cf392f"
      },
      "execution_count": null,
      "outputs": [
        {
          "text": "Summary statistics for PG movies:\ncount     287.000000\nmean     2008.428571\nstd        11.724442\nmin      1973.000000\n25%      2004.000000\n50%      2012.000000\n75%      2017.000000\nmax      2021.000000\nName: release_year, dtype: float64\n\nSummary statistics for PG-13 movies:\ncount     490.000000\nmean     2009.314286\nstd         9.033408\nmin      1955.000000\n25%      2005.000000\n50%      2011.000000\n75%      2016.000000\nmax      2021.000000\nName: release_year, dtype: float64\n",
          "name": "stdout",
          "output_type": "stream"
        },
        {
          "output_type": "stream",
          "text": "",
          "name": "stderr"
        },
        {
          "metadata": {},
          "data": {
            "text/plain": "<Figure size 1000x600 with 1 Axes>",
            "image/png": "[encoded data removed]"
          },
          "output_type": "display_data"
        }
      ],
      "id": "1d08634f"
    },
    {
      "source": [
        "---"
      ],
      "id": "cf50bc8c",
      "cell_type": "markdown",
      "metadata": {
        "id": "cf50bc8c"
      }
    },
    {
      "id": "de503f31",
      "source": [
        "**Reasoning**:\n",
        "The subtask is completed, we have analyzed the relationship between release year and ratings.\n",
        "\n"
      ],
      "cell_type": "markdown",
      "metadata": {
        "id": "de503f31"
      }
    },
    {
      "metadata": {
        "id": "b05b0e52"
      },
      "source": [
        "## Agent: feature_engineering\n",
        "\n",
        "### Subtask:\n",
        "Create a new feature that groups movies based on their release decade.\n"
      ],
      "cell_type": "markdown",
      "id": "b05b0e52"
    },
    {
      "metadata": {
        "id": "59e92087"
      },
      "cell_type": "markdown",
      "id": "59e92087",
      "source": [
        "**Reasoning**:\n",
        "We need to write code to create a new feature.\n",
        "\n"
      ]
    },
    {
      "outputs": [
        {
          "output_type": "stream",
          "name": "stdout",
          "text": "   show_id   type                             title  \\\n0       s1  Movie              Dick Johnson Is Dead   \n6       s7  Movie  My Little Pony: A New Generation   \n9      s10  Movie                      The Starling   \n27     s28  Movie                         Grown Ups   \n28     s29  Movie                        Dark Skies   \n\n                         director  \\\n0                 Kirsten Johnson   \n6   Robert Cullen, José Luis Ucha   \n9                  Theodore Melfi   \n27                   Dennis Dugan   \n28                  Scott Stewart   \n\n                                                                                                                                                                      cast  \\\n0                                                                                                                                                                  Unknown   \n6                        Vanessa Hudgens, Kimiko Glenn, James Marsden, Sofia Carson, Liza Koshy, Ken Jeong, Elizabeth Perkins, Jane Krakowski, Michael McKean, Phil LaMarr   \n9   Melissa McCarthy, Chris O'Dowd, Kevin Kline, Timothy Olyphant, Daveed Diggs, Skyler Gisondo, Laura Harrier, Rosalind Chao, Kimberly Quinn, Loretta Devine, Ravi Kapoor   \n27                   Adam Sandler, Kevin James, Chris Rock, David Spade, Rob Schneider, Salma Hayek, Maria Bello, Maya Rudolph, Colin Quinn, Tim Meadows, Joyce Van Patten   \n28                              Keri Russell, Josh Hamilton, J.K. Simmons, Dakota Goyo, Kadan Rockett, L.J. Benet, Rich Hutchman, Myndy Crist, Annie Thurman, Jake Brennan   \n\n          country          date_added  release_year rating duration  \\\n0   United States  September 25, 2021          2020  PG-13   90 min   \n6         Unknown  September 24, 2021          2021     PG   91 min   \n9   United States  September 24, 2021          2021  PG-13  104 min   \n27  United States  September 20, 2021          2010  PG-13  103 min   \n28  United States  September 19, 2021          2013  PG-13   97 min   \n\n                          listed_in  \\\n0                     Documentaries   \n6          Children & Family Movies   \n9                  Comedies, Dramas   \n27                         Comedies   \n28  Horror Movies, Sci-Fi & Fantasy   \n\n                                                                                                                                                  description  \\\n0    As her father nears the end of his life, filmmaker Kirsten Johnson stages his death in inventive and comical ways to help them both face the inevitable.   \n6   Equestria's divided. But a bright-eyed hero believes Earth Ponies, Pegasi and Unicorns should be pals — and, hoof to heart, she’s determined to prove it.   \n9     A woman adjusting to life after a loss contends with a feisty bird that's taken over her garden — and a husband who's struggling to find a way forward.   \n27     Mourning the loss of their beloved junior high basketball coach, five middle-aged pals reunite at a lake house and rediscover the joys of being a kid.   \n28            A family’s idyllic suburban life shatters when an alien force invades their home, and as they struggle to convince others of the deadly threat.   \n\n   release_decade  \n0           2020s  \n6           2020s  \n9           2020s  \n27          2010s  \n28          2010s  \n"
        },
        {
          "name": "stderr",
          "text": "<ipython-input-12-b84842044a41>:2: SettingWithCopyWarning:\n\n\nA value is trying to be set on a copy of a slice from a DataFrame.\nTry using .loc[row_indexer,col_indexer] = value instead\n\nSee the caveats in the documentation: https://pandas.pydata.org/pandas-docs/stable/user_guide/indexing.html#returning-a-view-versus-a-copy\n\n",
          "output_type": "stream"
        }
      ],
      "metadata": {
        "id": "8143e39c",
        "outputId": "aee2e4af-fb6b-4720-8e72-35ef8b94775f"
      },
      "source": [
        "# Create a new column 'release_decade'\n",
        "df_filtered['release_decade'] = df_filtered['release_year'].apply(lambda x: str(x)[:-1] + '0s' if x != 0 else 'Unknown')\n",
        "\n",
        "# Print the updated DataFrame\n",
        "print(df_filtered.head())\n"
      ],
      "execution_count": null,
      "cell_type": "code",
      "id": "8143e39c"
    },
    {
      "cell_type": "markdown",
      "id": "a843157d",
      "metadata": {
        "id": "a843157d"
      },
      "source": [
        "---"
      ]
    },
    {
      "cell_type": "markdown",
      "id": "e27e7ac1",
      "source": [
        "**Reasoning**:\n",
        "The warning message indicates that we are trying to modify a copy of a slice of the DataFrame, which can lead to unexpected behavior. To avoid this, we should use the `.loc` accessor to modify the DataFrame in place.\n",
        "\n"
      ],
      "metadata": {
        "id": "e27e7ac1"
      }
    },
    {
      "cell_type": "code",
      "metadata": {
        "id": "6d9c6b3e",
        "outputId": "4e5d0222-828d-4724-9e5e-7a1959c617cb"
      },
      "id": "6d9c6b3e",
      "execution_count": null,
      "source": [
        "# Create a new column 'release_decade' using .loc\n",
        "df_filtered.loc[:, 'release_decade'] = df_filtered['release_year'].apply(lambda x: str(x)[:-1] + '0s' if x != 0 else 'Unknown')\n",
        "\n",
        "# Print the updated DataFrame\n",
        "print(df_filtered.head())\n"
      ],
      "outputs": [
        {
          "text": "   show_id   type                             title  \\\n0       s1  Movie              Dick Johnson Is Dead   \n6       s7  Movie  My Little Pony: A New Generation   \n9      s10  Movie                      The Starling   \n27     s28  Movie                         Grown Ups   \n28     s29  Movie                        Dark Skies   \n\n                         director  \\\n0                 Kirsten Johnson   \n6   Robert Cullen, José Luis Ucha   \n9                  Theodore Melfi   \n27                   Dennis Dugan   \n28                  Scott Stewart   \n\n                                                                                                                                                                      cast  \\\n0                                                                                                                                                                  Unknown   \n6                        Vanessa Hudgens, Kimiko Glenn, James Marsden, Sofia Carson, Liza Koshy, Ken Jeong, Elizabeth Perkins, Jane Krakowski, Michael McKean, Phil LaMarr   \n9   Melissa McCarthy, Chris O'Dowd, Kevin Kline, Timothy Olyphant, Daveed Diggs, Skyler Gisondo, Laura Harrier, Rosalind Chao, Kimberly Quinn, Loretta Devine, Ravi Kapoor   \n27                   Adam Sandler, Kevin James, Chris Rock, David Spade, Rob Schneider, Salma Hayek, Maria Bello, Maya Rudolph, Colin Quinn, Tim Meadows, Joyce Van Patten   \n28                              Keri Russell, Josh Hamilton, J.K. Simmons, Dakota Goyo, Kadan Rockett, L.J. Benet, Rich Hutchman, Myndy Crist, Annie Thurman, Jake Brennan   \n\n          country          date_added  release_year rating duration  \\\n0   United States  September 25, 2021          2020  PG-13   90 min   \n6         Unknown  September 24, 2021          2021     PG   91 min   \n9   United States  September 24, 2021          2021  PG-13  104 min   \n27  United States  September 20, 2021          2010  PG-13  103 min   \n28  United States  September 19, 2021          2013  PG-13   97 min   \n\n                          listed_in  \\\n0                     Documentaries   \n6          Children & Family Movies   \n9                  Comedies, Dramas   \n27                         Comedies   \n28  Horror Movies, Sci-Fi & Fantasy   \n\n                                                                                                                                                  description  \\\n0    As her father nears the end of his life, filmmaker Kirsten Johnson stages his death in inventive and comical ways to help them both face the inevitable.   \n6   Equestria's divided. But a bright-eyed hero believes Earth Ponies, Pegasi and Unicorns should be pals — and, hoof to heart, she’s determined to prove it.   \n9     A woman adjusting to life after a loss contends with a feisty bird that's taken over her garden — and a husband who's struggling to find a way forward.   \n27     Mourning the loss of their beloved junior high basketball coach, five middle-aged pals reunite at a lake house and rediscover the joys of being a kid.   \n28            A family’s idyllic suburban life shatters when an alien force invades their home, and as they struggle to convince others of the deadly threat.   \n\n   release_decade  \n0           2020s  \n6           2020s  \n9           2020s  \n27          2010s  \n28          2010s  \n",
          "name": "stdout",
          "output_type": "stream"
        },
        {
          "output_type": "stream",
          "name": "stderr",
          "text": ""
        }
      ]
    },
    {
      "id": "1082feb4",
      "source": [
        "---"
      ],
      "cell_type": "markdown",
      "metadata": {
        "id": "1082feb4"
      }
    },
    {
      "source": [
        "**Reasoning**:\n",
        "The subtask of creating a new feature 'release_decade' is completed.\n",
        "\n"
      ],
      "id": "881e3113",
      "metadata": {
        "id": "881e3113"
      },
      "cell_type": "markdown"
    },
    {
      "cell_type": "markdown",
      "metadata": {
        "id": "8712a025"
      },
      "id": "8712a025",
      "source": [
        "## Agent: model_training\n",
        "\n",
        "### Subtask:\n",
        "Develop a simple recommendation system that suggests movies based on the user's preferred release decade and rating (PG or PG-13).\n"
      ]
    },
    {
      "cell_type": "markdown",
      "metadata": {
        "id": "95f11f8f"
      },
      "id": "95f11f8f",
      "source": [
        "**Reasoning**:\n",
        "I will write a function to recommend movies based on release decade and rating.\n",
        "\n"
      ]
    },
    {
      "source": [
        "def recommend_movies(decade, rating):\n",
        "    \"\"\"\n",
        "    Recommends movies based on release decade and rating.\n",
        "\n",
        "    Args:\n",
        "        decade: The release decade of movies to recommend.\n",
        "        rating: The rating of movies to recommend (PG or PG-13).\n",
        "\n",
        "    Returns:\n",
        "        A list of recommended movie titles.\n",
        "    \"\"\"\n",
        "    recommendations = df_filtered[(df_filtered['release_decade'] == decade) & (df_filtered['rating'] == rating)]['title'].tolist()\n",
        "    return recommendations\n",
        "\n",
        "# Test the recommendation function\n",
        "print(recommend_movies('2010s', 'PG'))\n",
        "print(recommend_movies('2020s', 'PG-13'))\n"
      ],
      "cell_type": "code",
      "id": "303fdfb2",
      "outputs": [
        {
          "name": "stdout",
          "text": "['Show Dogs', 'Letters to Juliet', 'Open Season: Scared Silly', 'Ratchet and Clank', 'Kung Fu Panda 2', 'Flipped', 'Home', 'Spy Kids: All the Time in the World', \"Madagascar 3: Europe's Most Wanted\", 'Escape from Planet Earth', 'Woody Woodpecker', 'The BFG', 'The Resurrection of Gavin Stone', 'The World We Make', 'Penguins of Madagascar: The Movie', 'Leap!', 'Rango', 'Cloudy with a Chance of Meatballs 2', 'Elliot the Littlest Reindeer', 'ParaNorman', 'The Smurfs 2', 'How to Train Your Dragon 2', 'Waiting for \"Superman\"', 'Puss in Boots', 'The Smurfs', 'Mr. Peabody & Sherman', \"Dr. Seuss' The Lorax\", 'The Nut Job', 'Underdogs', \"Okko's Inn\", 'Mirai', 'Modest Heroes: Ponoc Short Films Theatre', 'Wadjda', 'Arctic Dogs', 'Lady Driver', 'Jem and the Holograms', 'The Last Airbender', 'Greater', 'Bethany Hamilton: Unstoppable', 'Lu Over the Wall', 'Hugo', 'Faith, Hope & Love', 'Menashe', 'Hop', 'A Cinderella Story: Christmas Wish', 'Klaus', 'Holly Star', 'Pachamama', 'Knock Down The House', 'Puppy Star Christmas', 'Christmas Wedding Planner', 'Zokkomon', 'Gnome Alone', \"A Witches' Ball\", 'Big Miracle', 'Duck Duck Goose', 'Nothing to Lose', 'My Perfect Romance', 'Pup Star: Better 2Gether', 'A 2nd Chance', \"Marvel's Hulk: Where Monsters Dwell\", 'Marvel Super Hero Adventures: Frost Fight!', 'The Short Game', \"Being Elmo: A Puppeteer's Journey\", 'A Boy Called Po', 'A Wrinkle in Time', 'A.X.L.', 'Aliens Ate My Homework', 'April and the Extraordinary World', 'Arthur Christmas', 'Be Somebody', 'Before the Flood', 'Bigger Fatter Liar', 'Blinky Bill: The Movie', 'Boy and the World', 'Cats & Dogs: The Revenge of Kitty Galore', 'Change in the Air', 'Christian Mingle', 'Christopher Robin', 'Cop and a Half: New Recruit', 'Dolphin Tale 2', \"Dr. Seuss' The Grinch\", 'Earth to Echo', 'East Side Sushi', 'Footprints: The Path of Your Life', 'Forks Over Knives', 'Froning: The Fittest Man in History', 'Get Santa', 'God Bless the Broken Road', \"God's Not Dead\", \"God's Not Dead: A Light in Darkness\", 'Goosebumps 2: Haunted Halloween', 'Hedgehogs', 'Hoodwinked Too! Hood vs. Evil', 'Hope Springs Eternal', 'Hotel Transylvania 3: Summer Vacation', 'I Am Bolt', \"I'm in Love with a Church Girl\", 'Incredibles 2 (Spanish Version)', 'Inequality for All', 'Iron Man & Captain America: Heroes United', 'Jack and the Cuckoo-Clock Heart', 'Jiro Dreams of Sushi', 'Judy Moody and the Not Bummer Summer', \"Kahlil Gibran's The Prophet\", 'Leap Year', \"Legend of the Guardians: The Owls of Ga'Hoole\", 'Little Men', \"Marvel's Iron Man & Hulk: Heroes United\", \"Mary and the Witch's Flower\", 'Mary Poppins Returns', 'Middle School: The Worst Years of My Life', 'Mirror Mirror', 'Monkey Up', 'Monster Family', 'Mountain', 'Mune: Guardian of the Moon', 'Muppets Most Wanted', 'One Direction: This Is Us', 'Peter Rabbit', 'Phantom Boy', 'Pope Francis: A Man of His Word', 'Ralph Breaks the Internet: Wreck-It Ralph 2', 'Russell Madness', 'Scales: Mermaids Are Real', 'Soul Surfer', 'Spider-Man: Into the Spider-Verse', 'The Adventures of Tintin', 'The Angry Birds Movie 2', 'The Christmas Candle', 'The Croods', 'The Hundred-Foot Journey', 'The Incredibles 2', 'The Lamb', 'The Last Whistle', 'The Little Mermaid', 'The Little Prince', 'The Muppets', 'The Nutcracker and the Four Realms', 'The Pirates! Band of Misfits', 'The Secret Life of Pets 2', 'The Spy Next Door', 'Turbo', 'Water & Power: A California Heist', 'Yellowbird']\n['Dick Johnson Is Dead', 'The Starling', 'Blood Brothers: Malcolm X & Muhammad Ali', 'Worth', 'Final Account', 'Misha and the Wolves', 'The Paper Tigers', 'Pray Away', 'Audible', 'The Ice Road', 'Fatherhood', '2 Hearts', 'Thunder Force', 'Bombay Rose', 'Moxie', 'Fatima', 'The Dig', 'Cops and Robbers', 'The Midnight Sky', 'A California Christmas', 'Giving Voice', 'The Prom', 'The Life Ahead', 'Rebecca', 'Tremors: Shrieker Island', 'Hubie Halloween', 'Vampires vs. the Bronx', 'Enola Holmes', 'The Social Dilemma', 'Rising Phoenix', 'The Lost Husband', 'Eurovision Song Contest: The Story of Fire Saga', 'Athlete A', 'The Half Of It', 'Dragonheart: Vengeance']\n",
          "output_type": "stream"
        },
        {
          "text": "",
          "name": "stderr",
          "output_type": "stream"
        }
      ],
      "metadata": {
        "id": "303fdfb2",
        "outputId": "7d90412a-027d-40c2-d81f-f2a7c589c13d"
      },
      "execution_count": null
    },
    {
      "metadata": {
        "id": "35d798d0"
      },
      "cell_type": "markdown",
      "source": [
        "---"
      ],
      "id": "35d798d0"
    },
    {
      "metadata": {
        "id": "081c9d6e"
      },
      "source": [
        "**Reasoning**:\n",
        "The output is truncated, indicating that the list of recommended movies is too long to be displayed fully. To address this, I will modify the code to limit the number of recommendations returned.\n",
        "\n"
      ],
      "id": "081c9d6e",
      "cell_type": "markdown"
    },
    {
      "metadata": {
        "id": "3edd1eb7",
        "outputId": "87c158f3-2190-4eea-b9fa-a29c24c75fb3"
      },
      "source": [
        "def recommend_movies(decade, rating, n=5):\n",
        "    \"\"\"\n",
        "    Recommends movies based on release decade and rating.\n",
        "\n",
        "    Args:\n",
        "        decade: The release decade of movies to recommend.\n",
        "        rating: The rating of movies to recommend (PG or PG-13).\n",
        "        n: The maximum number of recommendations to return.\n",
        "\n",
        "    Returns:\n",
        "        A list of recommended movie titles.\n",
        "    \"\"\"\n",
        "    recommendations = df_filtered[(df_filtered['release_decade'] == decade) & (df_filtered['rating'] == rating)]['title'].tolist()\n",
        "    return recommendations[:n]\n",
        "\n",
        "# Test the recommendation function\n",
        "print(recommend_movies('2010s', 'PG'))\n",
        "print(recommend_movies('2020s', 'PG-13'))\n",
        "\n"
      ],
      "cell_type": "code",
      "execution_count": null,
      "id": "3edd1eb7",
      "outputs": [
        {
          "text": "['Show Dogs', 'Letters to Juliet', 'Open Season: Scared Silly', 'Ratchet and Clank', 'Kung Fu Panda 2']\n['Dick Johnson Is Dead', 'The Starling', 'Blood Brothers: Malcolm X & Muhammad Ali', 'Worth', 'Final Account']\n",
          "output_type": "stream",
          "name": "stdout"
        },
        {
          "name": "stderr",
          "text": "",
          "output_type": "stream"
        }
      ]
    },
    {
      "source": [
        "---"
      ],
      "id": "ad2f7d9e",
      "metadata": {
        "id": "ad2f7d9e"
      },
      "cell_type": "markdown"
    },
    {
      "source": [
        "**Reasoning**:\n",
        "The recommendation system is now working as expected, returning a limited number of movie titles based on the provided decade and rating. The task is complete.\n",
        "\n"
      ],
      "metadata": {
        "id": "b041d652"
      },
      "cell_type": "markdown",
      "id": "b041d652"
    },
    {
      "id": "e0e62c56",
      "metadata": {
        "id": "e0e62c56"
      },
      "source": [
        "## Agent: model_evaluation\n",
        "\n",
        "### Subtask:\n",
        "Evaluate the performance of the `recommend_movies` function created in the previous step.\n"
      ],
      "cell_type": "markdown"
    },
    {
      "id": "cc45b776",
      "cell_type": "markdown",
      "metadata": {
        "id": "cc45b776"
      },
      "source": [
        "**Reasoning**:\n",
        "The task requires evaluating the performance of a function, so we need to design test cases and assess the results.\n",
        "\n"
      ]
    },
    {
      "execution_count": null,
      "cell_type": "code",
      "source": [
        "def recommend_movies(decade, rating, n=5):\n",
        "    \"\"\"\n",
        "    Recommends movies based on release decade and rating.\n",
        "\n",
        "    Args:\n",
        "        decade: The release decade of movies to recommend.\n",
        "        rating: The rating of movies to recommend (\"PG\" or \"PG-13\").\n",
        "        n: The maximum number of recommendations to return.\n",
        "\n",
        "    Returns:\n",
        "        A list of recommended movie titles.\n",
        "    \"\"\"\n",
        "    recommendations = df_filtered[(df_filtered['release_decade'] == decade) & (df_filtered['rating'] == rating)]['title'].tolist()\n",
        "    return recommendations[:n]\n",
        "\n",
        "# Test cases\n",
        "test_cases = [\n",
        "    (\"2010s\", \"PG\", 3),\n",
        "    (\"2000s\", \"PG-13\", 5),\n",
        "    (\"2020s\", \"PG\", 10),\n",
        "    (\"1990s\", \"PG-13\", 2)\n",
        "]\n",
        "\n",
        "# Evaluate recommendations for each test case\n",
        "for decade, rating, n in test_cases:\n",
        "    recommendations = recommend_movies(decade, rating, n)\n",
        "    print(f\"Recommendations for {decade} {rating}-rated movies (up to {n}):\")\n",
        "    for movie in recommendations:\n",
        "        print(f\"- {movie}\")\n",
        "    print(\"----\")\n",
        "\n"
      ],
      "id": "27b17448",
      "outputs": [
        {
          "text": "Recommendations for 2010s PG-rated movies (up to 3):\n- Show Dogs\n- Letters to Juliet\n- Open Season: Scared Silly\n----\nRecommendations for 2000s PG-13-rated movies (up to 5):\n- An Unfinished Life\n- Freedom Writers\n- Love Don't Cost a Thing\n- Poseidon\n- School of Rock\n----\nRecommendations for 2020s PG-rated movies (up to 10):\n- My Little Pony: A New Generation\n- My Heroes Were Cowboys\n- The Water Man\n- Vivo\n- A Second Chance:  Rivals!\n- Sisters on Track\n- Skater Girl\n- Wish Dragon\n- Aliens Stole My Body\n- The Mitchells vs. The Machines\n----\nRecommendations for 1990s PG-13-rated movies (up to 2):\n- Clear and Present Danger\n- Mars Attacks!\n----\n",
          "output_type": "stream",
          "name": "stdout"
        },
        {
          "name": "stderr",
          "text": "",
          "output_type": "stream"
        }
      ],
      "metadata": {
        "id": "27b17448",
        "outputId": "adeb2242-b91c-4e2f-a696-040168b58725"
      }
    },
    {
      "id": "f52aa5c6",
      "metadata": {
        "id": "f52aa5c6"
      },
      "cell_type": "markdown",
      "source": [
        "---"
      ]
    },
    {
      "source": [
        "**Reasoning**:\n",
        "The test cases have been executed and the results are printed. Now we need to summarize the findings and evaluate the performance of the recommendation system.\n",
        "\n"
      ],
      "cell_type": "markdown",
      "metadata": {
        "id": "f04f0e6c"
      },
      "id": "f04f0e6c"
    },
    {
      "metadata": {
        "id": "fdfbcdb8"
      },
      "cell_type": "markdown",
      "source": [
        "## Summary:\n",
        "\n",
        "This task aimed to create a movie recommendation system based on release year and ratings (PG and PG-13). The solution involved several steps:\n",
        "\n",
        "1. **Data Loading and Cleaning:** The movie data was loaded from a CSV file, and missing values were handled.\n",
        "2. **Data Wrangling:** The data was filtered to include only movies with ratings \"PG\" and \"PG-13\".\n",
        "3. **Feature Engineering:** A new feature, \"release_decade\", was created to group movies by their release decade.\n",
        "4. **Model Training:** A simple content-based filtering approach was implemented, grouping movies by \"release_decade\" and \"rating\".\n",
        "5. **Model Evaluation:** The recommendation system was tested with various inputs and found to provide relevant recommendations based on the given criteria.\n",
        "\n",
        "## Conclusion\n",
        "\n",
        "A basic movie recommendation system was successfully developed, capable of suggesting movies based on release decade and rating. However, it has limitations due to its simple filtering approach and lack of personalization.\n",
        "\n",
        "## Insights and Next Steps\n",
        "\n",
        "To enhance the recommendation system, consider the following:\n",
        "\n",
        "* **Incorporate genre information:** Allow users to specify preferred genres for more tailored recommendations.\n",
        "* **Implement collaborative filtering:** Leverage user behavior data to provide personalized suggestions based on similar user preferences.\n",
        "* **Utilize content-based filtering:** Analyze movie descriptions to identify movies with similar themes or content.\n",
        "* **Develop a user interface:** Create a user-friendly interface for users to interact with the recommendation system.\n",
        "\n",
        "By addressing these areas, the recommendation system can be significantly improved, providing a more engaging and personalized experience for users.\n",
        "\n"
      ],
      "id": "fdfbcdb8"
    },
    {
      "id": "labs_signature",
      "cell_type": "markdown",
      "source": [
        "An AI generated notebook created with [Data Science Agent](https://labs.google.com/code/dsa) from Google Labs ![image.png](data:image/png;base64,iVBORw0KGgoAAAANSUhEUgAAACAAAAAgCAYAAABzenr0AAAAAXNSR0IArs4c6QAAAERlWElmTU0AKgAAAAgAAYdpAAQAAAABAAAAGgAAAAAAA6ABAAMAAAABAAEAAKACAAQAAAABAAAAIKADAAQAAAABAAAAIAAAAACshmLzAAAFI0lEQVRYCb1XbUxTVxh+z71tKZTvUVBGZAXKhzI6XJZFpiFziiZuM5M5A4vJnBo2FrdlcUtMNo1LDGbJEsOP7Y9uETYXFdgQp7E4EHEIEeXDBaEqBSYfc0gptEBv23t2zi0ll9sPWhN2/pz3PM973ue9573nnHsRiFoXHlNpGmFTxKxsO8zKCgAz4SL66U2EJ0DO3wUlf0ZfYL+4Ba2wuoMht9HfP5Ks6VKdBAfa5MaWpZfhq0bdk30pKSmDNL6QwMTDkVUxnapfgEd5yyIqDcrgFtML1qLY1MQhBmOsiukKrfzfxGky5EGpJtVGuN60AybZammSfsaYcAulk/j54ySuZBjl3CEDK97ryXhHvjGc+vNUXYUmOT3NbPnHJB96NBhDPVclJZsiEmLtA4a+qJLte/s/S3tvvfcIEnQWvy8DB5slgX0ONyStdRwfLIs0tHckQlQI5OXmPaDOLe3NaWC2QYw63rIuUef0GUBK2NlshM9PTRM84O1mZyxdisJEXUN1U9OrfG4+jdnIdDRtLMzP56pHuuR8uE6q42dsYQjJ+3HwoOzg5BCDQOtUy90ktRGLgHJuLMCepwnQFyfgNo6mbVgpgxnrzMI8wZazQLmAA7kcMU0gqBaKlSzMOcGGuYWVsxMbzzlA4IKKBhB0As1jtzngeXg2LEHh1loR5ipH43BbsCUIMgHE3S/8aGf+yjVpE7GsOtOdwDNsQnby2ox/d31clA+M7Z4bD6QPagUKftxjp0ENX/9hJF2USCC8/9C1UTp+5WSRTIQvaQacwE1LR1P973WrDx481BbOx7wojcyAKufo4bKWlstXtbcsnU1S3teYngOThBQ/jacv4gzo7bj0ldkpkyNHOmnSkZ5OLmRnXendC1XVGbaKvwcBK7S+/OZxc0ArkHe6mKUTug/X95HOpzj12bpx2yQ3M6soqC0J6ERcMoFmU9u1m3X61K+OlrXFIfXLVMRLcwzj4Zat+pKefUc+2AAKBuorqzPbp5cuhf8S0KUvjk/XZq0ZMXx5g5x8SO0pPte75eIBVl9To4Vp8o7StcLksuQxMJEKcP4w9hCwLNVznoD4L8Gb50s5IOfNt6XHyKUjFUcz5QM/3WAOaDL1p89qYUbYIAB04Yk4TYSf4mBX7acWH+IC7LMEreStrzt7LpueFMd/LU8C2dxf7kCPudHW16p2D3/yeel6PEY+78g9IAi7HWhPEyGlOFdZoevl7l8XU2LbewnQ3D35fk2aw2SVC0cVPXQ1UfDhG3tu9T0ZiGyoupABNgLKibB94UoQx3XZiPAYQ2RSnNV8oneU7Io0iZP3Erxz+Qu7IC6jtSRTyO0HRjN8X37ipYaff8sQlphi/sSpEhGnqzP1aFy1v/XYlERcGNISkEiL24PHA66t5ph/OlpTcaPCUkzMi22na26noTtaDM/biB6bHu9BXETsnOCgJJRYiMbySHc+lK+OKpCb2+kUrn6pF4NwldlIts1zYsaGpu/EleastoBV6UogWFV3NJIxKZWKD7EZv7t9R43i17kZoUfYiHCtqQ449vVFBB2g2Z6eaeN4CBvisUIevr4Aos/xDj4rIlkNWOn57Sl3XEJYb3oLzGyNrxjLikc7CxnYHK0Hlr++rELeglPNTdFXGISQFXQhu4H8LnnzWxaMahFNqi3UF6WGDkEuXwzkx3FZBMVBqUauoljQJPii15v+nudckW8DG/Mu2Jnnye6IFc99ahthE8j4Tgjjz3Rvtl/SiX7P/wMAnfFmGtKN6gAAAABJRU5ErkJggg==)\n"
      ],
      "metadata": {
        "id": "labs_signature"
      }
    }
  ],
  "nbformat_minor": 5,
  "nbformat": 4
}